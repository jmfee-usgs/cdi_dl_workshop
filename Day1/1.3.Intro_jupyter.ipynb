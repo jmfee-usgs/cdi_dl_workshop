{
 "cells": [
  {
   "cell_type": "markdown",
   "metadata": {},
   "source": [
    "# Introduction to Jupyter"
   ]
  },
  {
   "cell_type": "markdown",
   "metadata": {},
   "source": [
    "> Written by Dr Daniel Buscombe, Northern Arizona University\n",
    "\n",
    "> Part of a series of notebooks for image recognition and classification using deep convolutional neural networks"
   ]
  },
  {
   "cell_type": "markdown",
   "metadata": {},
   "source": [
    "The Jupyter project provides a browser-based notebook that is useful for development, collaboration, sharing, and even publication of data science results. \n",
    "\n",
    "The IPython notebook is a special case of the broader Jupyter notebook structure, which encompasses notebooks for Julia, R, and other programming languages."
   ]
  },
  {
   "cell_type": "markdown",
   "metadata": {},
   "source": [
    "The Jupyter notebook is a browser-based graphical interface to the IPython shell, and builds on it a rich set of dynamic display capabilities. As well as executing Python/IPython statements, the notebook allows the user to include formatted text, static and dynamic visualizations, mathematical equations, JavaScript widgets, and much more. Furthermore, these documents can be saved in a way that lets other people open them and execute the code on their own systems."
   ]
  },
  {
   "cell_type": "markdown",
   "metadata": {},
   "source": [
    "You can use question mark in order to get help. To execute cell you have to press Shift+Enter"
   ]
  },
  {
   "cell_type": "code",
   "execution_count": 1,
   "metadata": {},
   "outputs": [
    {
     "data": {
      "text/plain": [
       "\n",
       "IPython -- An enhanced Interactive Python\n",
       "=========================================\n",
       "\n",
       "IPython offers a fully compatible replacement for the standard Python\n",
       "interpreter, with convenient shell features, special commands, command\n",
       "history mechanism and output results caching.\n",
       "\n",
       "At your system command line, type 'ipython -h' to see the command line\n",
       "options available. This document only describes interactive features.\n",
       "\n",
       "GETTING HELP\n",
       "------------\n",
       "\n",
       "Within IPython you have various way to access help:\n",
       "\n",
       "  ?         -> Introduction and overview of IPython's features (this screen).\n",
       "  object?   -> Details about 'object'.\n",
       "  object??  -> More detailed, verbose information about 'object'.\n",
       "  %quickref -> Quick reference of all IPython specific syntax and magics.\n",
       "  help      -> Access Python's own help system.\n",
       "\n",
       "If you are in terminal IPython you can quit this screen by pressing `q`.\n",
       "\n",
       "\n",
       "MAIN FEATURES\n",
       "-------------\n",
       "\n",
       "* Access to the standard Python help with object docstrings and the Python\n",
       "  manuals. Simply type 'help' (no quotes) to invoke it.\n",
       "\n",
       "* Magic commands: type %magic for information on the magic subsystem.\n",
       "\n",
       "* System command aliases, via the %alias command or the configuration file(s).\n",
       "\n",
       "* Dynamic object information:\n",
       "\n",
       "  Typing ?word or word? prints detailed information about an object. Certain\n",
       "  long strings (code, etc.) get snipped in the center for brevity.\n",
       "\n",
       "  Typing ??word or word?? gives access to the full information without\n",
       "  snipping long strings. Strings that are longer than the screen are printed\n",
       "  through the less pager.\n",
       "\n",
       "  The ?/?? system gives access to the full source code for any object (if\n",
       "  available), shows function prototypes and other useful information.\n",
       "\n",
       "  If you just want to see an object's docstring, type '%pdoc object' (without\n",
       "  quotes, and without % if you have automagic on).\n",
       "\n",
       "* Tab completion in the local namespace:\n",
       "\n",
       "  At any time, hitting tab will complete any available python commands or\n",
       "  variable names, and show you a list of the possible completions if there's\n",
       "  no unambiguous one. It will also complete filenames in the current directory.\n",
       "\n",
       "* Search previous command history in multiple ways:\n",
       "\n",
       "  - Start typing, and then use arrow keys up/down or (Ctrl-p/Ctrl-n) to search\n",
       "    through the history items that match what you've typed so far.\n",
       "\n",
       "  - Hit Ctrl-r: opens a search prompt. Begin typing and the system searches\n",
       "    your history for lines that match what you've typed so far, completing as\n",
       "    much as it can.\n",
       "\n",
       "  - %hist: search history by index.\n",
       "\n",
       "* Persistent command history across sessions.\n",
       "\n",
       "* Logging of input with the ability to save and restore a working session.\n",
       "\n",
       "* System shell with !. Typing !ls will run 'ls' in the current directory.\n",
       "\n",
       "* The reload command does a 'deep' reload of a module: changes made to the\n",
       "  module since you imported will actually be available without having to exit.\n",
       "\n",
       "* Verbose and colored exception traceback printouts. See the magic xmode and\n",
       "  xcolor functions for details (just type %magic).\n",
       "\n",
       "* Input caching system:\n",
       "\n",
       "  IPython offers numbered prompts (In/Out) with input and output caching. All\n",
       "  input is saved and can be retrieved as variables (besides the usual arrow\n",
       "  key recall).\n",
       "\n",
       "  The following GLOBAL variables always exist (so don't overwrite them!):\n",
       "  _i: stores previous input.\n",
       "  _ii: next previous.\n",
       "  _iii: next-next previous.\n",
       "  _ih : a list of all input _ih[n] is the input from line n.\n",
       "\n",
       "  Additionally, global variables named _i<n> are dynamically created (<n>\n",
       "  being the prompt counter), such that _i<n> == _ih[<n>]\n",
       "\n",
       "  For example, what you typed at prompt 14 is available as _i14 and _ih[14].\n",
       "\n",
       "  You can create macros which contain multiple input lines from this history,\n",
       "  for later re-execution, with the %macro function.\n",
       "\n",
       "  The history function %hist allows you to see any part of your input history\n",
       "  by printing a range of the _i variables. Note that inputs which contain\n",
       "  magic functions (%) appear in the history with a prepended comment. This is\n",
       "  because they aren't really valid Python code, so you can't exec them.\n",
       "\n",
       "* Output caching system:\n",
       "\n",
       "  For output that is returned from actions, a system similar to the input\n",
       "  cache exists but using _ instead of _i. Only actions that produce a result\n",
       "  (NOT assignments, for example) are cached. If you are familiar with\n",
       "  Mathematica, IPython's _ variables behave exactly like Mathematica's %\n",
       "  variables.\n",
       "\n",
       "  The following GLOBAL variables always exist (so don't overwrite them!):\n",
       "  _ (one underscore): previous output.\n",
       "  __ (two underscores): next previous.\n",
       "  ___ (three underscores): next-next previous.\n",
       "\n",
       "  Global variables named _<n> are dynamically created (<n> being the prompt\n",
       "  counter), such that the result of output <n> is always available as _<n>.\n",
       "\n",
       "  Finally, a global dictionary named _oh exists with entries for all lines\n",
       "  which generated output.\n",
       "\n",
       "* Directory history:\n",
       "\n",
       "  Your history of visited directories is kept in the global list _dh, and the\n",
       "  magic %cd command can be used to go to any entry in that list.\n",
       "\n",
       "* Auto-parentheses and auto-quotes (adapted from Nathan Gray's LazyPython)\n",
       "\n",
       "  1. Auto-parentheses\n",
       "        \n",
       "     Callable objects (i.e. functions, methods, etc) can be invoked like\n",
       "     this (notice the commas between the arguments)::\n",
       "       \n",
       "         In [1]: callable_ob arg1, arg2, arg3\n",
       "       \n",
       "     and the input will be translated to this::\n",
       "       \n",
       "         callable_ob(arg1, arg2, arg3)\n",
       "       \n",
       "     This feature is off by default (in rare cases it can produce\n",
       "     undesirable side-effects), but you can activate it at the command-line\n",
       "     by starting IPython with `--autocall 1`, set it permanently in your\n",
       "     configuration file, or turn on at runtime with `%autocall 1`.\n",
       "\n",
       "     You can force auto-parentheses by using '/' as the first character\n",
       "     of a line.  For example::\n",
       "       \n",
       "          In [1]: /globals             # becomes 'globals()'\n",
       "       \n",
       "     Note that the '/' MUST be the first character on the line!  This\n",
       "     won't work::\n",
       "       \n",
       "          In [2]: print /globals    # syntax error\n",
       "\n",
       "     In most cases the automatic algorithm should work, so you should\n",
       "     rarely need to explicitly invoke /. One notable exception is if you\n",
       "     are trying to call a function with a list of tuples as arguments (the\n",
       "     parenthesis will confuse IPython)::\n",
       "       \n",
       "          In [1]: zip (1,2,3),(4,5,6)  # won't work\n",
       "       \n",
       "     but this will work::\n",
       "       \n",
       "          In [2]: /zip (1,2,3),(4,5,6)\n",
       "          ------> zip ((1,2,3),(4,5,6))\n",
       "          Out[2]= [(1, 4), (2, 5), (3, 6)]\n",
       "\n",
       "     IPython tells you that it has altered your command line by\n",
       "     displaying the new command line preceded by -->.  e.g.::\n",
       "       \n",
       "          In [18]: callable list\n",
       "          -------> callable (list)\n",
       "\n",
       "  2. Auto-Quoting\n",
       "    \n",
       "     You can force auto-quoting of a function's arguments by using ',' as\n",
       "     the first character of a line.  For example::\n",
       "       \n",
       "          In [1]: ,my_function /home/me   # becomes my_function(\"/home/me\")\n",
       "\n",
       "     If you use ';' instead, the whole argument is quoted as a single\n",
       "     string (while ',' splits on whitespace)::\n",
       "       \n",
       "          In [2]: ,my_function a b c   # becomes my_function(\"a\",\"b\",\"c\")\n",
       "          In [3]: ;my_function a b c   # becomes my_function(\"a b c\")\n",
       "\n",
       "     Note that the ',' MUST be the first character on the line!  This\n",
       "     won't work::\n",
       "       \n",
       "          In [4]: x = ,my_function /home/me    # syntax error\n"
      ]
     },
     "metadata": {},
     "output_type": "display_data"
    }
   ],
   "source": [
    "?"
   ]
  },
  {
   "cell_type": "markdown",
   "metadata": {},
   "source": [
    "## Executing code"
   ]
  },
  {
   "cell_type": "markdown",
   "metadata": {},
   "source": [
    "* To execute the code in a particular cell, click on the cell and hit shift-enter.\n",
    "* Before you execute the code in an arbitrary cell it is good to run all the code once so that all imports and variables are initialised.\n",
    "* If you see a pink colored warning message, it can be ignored. "
   ]
  },
  {
   "cell_type": "code",
   "execution_count": null,
   "metadata": {},
   "outputs": [],
   "source": [
    "print('I love Python')"
   ]
  },
  {
   "cell_type": "markdown",
   "metadata": {},
   "source": [
    "## Making Plots"
   ]
  },
  {
   "cell_type": "code",
   "execution_count": null,
   "metadata": {},
   "outputs": [],
   "source": [
    "%matplotlib inline\n",
    "import matplotlib.pyplot as plt"
   ]
  },
  {
   "cell_type": "code",
   "execution_count": null,
   "metadata": {},
   "outputs": [],
   "source": [
    "x = [1,2,3,4,5]\n",
    "plt.plot(x);"
   ]
  },
  {
   "cell_type": "markdown",
   "metadata": {},
   "source": [
    "Question mark after a function will open pager with documentation. Double question mark will show you source code of the function."
   ]
  },
  {
   "cell_type": "code",
   "execution_count": null,
   "metadata": {},
   "outputs": [],
   "source": [
    "plt.plot??"
   ]
  },
  {
   "cell_type": "markdown",
   "metadata": {},
   "source": [
    "## Formatting text "
   ]
  },
  {
   "cell_type": "markdown",
   "metadata": {},
   "source": [
    "### Emphasis\n",
    "\n",
    "Emphasis, aka italics, with *asterisks* or _underscores_.\n",
    "\n",
    "Strong emphasis, aka bold, with **asterisks** or __underscores__.\n",
    "\n",
    "Combined emphasis with **asterisks and _underscores_**.\n",
    "\n",
    "Strikethrough uses two tildes. ~~Scratch this.~~"
   ]
  },
  {
   "cell_type": "markdown",
   "metadata": {},
   "source": [
    "### Links\n",
    "\n",
    "[I'm an inline-style link](https://www.google.com)"
   ]
  },
  {
   "cell_type": "markdown",
   "metadata": {},
   "source": [
    "### LaTeX\n",
    "\n",
    "We can write equations inline: $e = mc^2$, $e^{i\\pi}+1=0$\n",
    "\n",
    "or in display format:\n",
    "\n",
    "$$ e^x = \\sum_{i=0}^{\\infty}\\frac{1}{i!}x^i$$\n"
   ]
  },
  {
   "cell_type": "markdown",
   "metadata": {},
   "source": [
    "## Images\n",
    "\n",
    "![](http://python.org/images/python-logo.gif)"
   ]
  },
  {
   "cell_type": "code",
   "execution_count": 3,
   "metadata": {},
   "outputs": [
    {
     "data": {
      "text/html": [
       "<img src=\"http://python.org/images/python-logo.gif\"/>"
      ],
      "text/plain": [
       "<IPython.core.display.Image object>"
      ]
     },
     "execution_count": 3,
     "metadata": {},
     "output_type": "execute_result"
    }
   ],
   "source": [
    "from IPython.display import Image\n",
    "Image(url='http://python.org/images/python-logo.gif')"
   ]
  },
  {
   "cell_type": "markdown",
   "metadata": {},
   "source": [
    "## Watching videos"
   ]
  },
  {
   "cell_type": "code",
   "execution_count": null,
   "metadata": {},
   "outputs": [],
   "source": [
    "from IPython.display import YouTubeVideo\n",
    "YouTubeVideo('F4rFuIb1Ie4')"
   ]
  },
  {
   "cell_type": "markdown",
   "metadata": {},
   "source": [
    "## Magic commands and using the shell"
   ]
  },
  {
   "cell_type": "markdown",
   "metadata": {},
   "source": [
    "You can run a script using the magic command %run\n",
    "\n",
    "Variables are passed to the script using a $ symbol"
   ]
  },
  {
   "cell_type": "code",
   "execution_count": null,
   "metadata": {},
   "outputs": [],
   "source": [
    "var1 = 50\n",
    "var2 = 'hi'"
   ]
  },
  {
   "cell_type": "code",
   "execution_count": null,
   "metadata": {},
   "outputs": [],
   "source": [
    "%run ./example_script.py $var1 $var2"
   ]
  },
  {
   "cell_type": "markdown",
   "metadata": {},
   "source": [
    "You can also call on system (bash) commands using the bang (!) operator\n",
    "\n",
    "Below we use 'cat' to show the contents of the script"
   ]
  },
  {
   "cell_type": "code",
   "execution_count": null,
   "metadata": {},
   "outputs": [],
   "source": [
    "!cat example_script.py"
   ]
  },
  {
   "cell_type": "markdown",
   "metadata": {},
   "source": [
    "Suppressing output:"
   ]
  },
  {
   "cell_type": "code",
   "execution_count": null,
   "metadata": {},
   "outputs": [],
   "source": [
    "%%capture\n",
    "%run ./example_script.py $var1 $var2"
   ]
  },
  {
   "cell_type": "markdown",
   "metadata": {},
   "source": [
    "Examining traceback"
   ]
  },
  {
   "cell_type": "code",
   "execution_count": null,
   "metadata": {},
   "outputs": [],
   "source": [
    "%tb"
   ]
  },
  {
   "cell_type": "markdown",
   "metadata": {},
   "source": [
    "Access any bash command"
   ]
  },
  {
   "cell_type": "code",
   "execution_count": null,
   "metadata": {},
   "outputs": [],
   "source": [
    "!pwd"
   ]
  },
  {
   "cell_type": "markdown",
   "metadata": {},
   "source": [
    "Find out how long it take to run a command with %timeit magic function:"
   ]
  },
  {
   "cell_type": "code",
   "execution_count": null,
   "metadata": {},
   "outputs": [],
   "source": [
    "%timeit list(range(10))"
   ]
  },
  {
   "cell_type": "markdown",
   "metadata": {},
   "source": [
    "Print all interactive variables (similar to Matlab function):"
   ]
  },
  {
   "cell_type": "code",
   "execution_count": null,
   "metadata": {},
   "outputs": [],
   "source": [
    "%whos"
   ]
  },
  {
   "cell_type": "markdown",
   "metadata": {},
   "source": [
    "You can write content of the cell to a file with %%writefile:"
   ]
  },
  {
   "cell_type": "code",
   "execution_count": null,
   "metadata": {},
   "outputs": [],
   "source": [
    "%%writefile hello.py\n",
    "a = 'hello world!'\n",
    "print(a)"
   ]
  },
  {
   "cell_type": "code",
   "execution_count": null,
   "metadata": {},
   "outputs": [],
   "source": [
    "%run hello.py"
   ]
  },
  {
   "cell_type": "markdown",
   "metadata": {},
   "source": [
    "In order to get information about all magic functions type:"
   ]
  },
  {
   "cell_type": "code",
   "execution_count": null,
   "metadata": {},
   "outputs": [],
   "source": [
    "%magic"
   ]
  },
  {
   "cell_type": "markdown",
   "metadata": {},
   "source": [
    "### File management and resources\n",
    "\n",
    "(these commands below only work in the cloud environment, unless you are in an environment supporting bash)"
   ]
  },
  {
   "cell_type": "markdown",
   "metadata": {},
   "source": [
    "You each have a linux compute environment with 8GB of memory"
   ]
  },
  {
   "cell_type": "code",
   "execution_count": null,
   "metadata": {},
   "outputs": [],
   "source": [
    "!cat /proc/meminfo | head"
   ]
  },
  {
   "cell_type": "markdown",
   "metadata": {},
   "source": [
    "Four CPUs"
   ]
  },
  {
   "cell_type": "code",
   "execution_count": null,
   "metadata": {},
   "outputs": [],
   "source": [
    "!cat /proc/cpuinfo | grep processor"
   ]
  },
  {
   "cell_type": "markdown",
   "metadata": {},
   "source": [
    "@ 2.5 GHz"
   ]
  },
  {
   "cell_type": "code",
   "execution_count": null,
   "metadata": {},
   "outputs": [],
   "source": [
    "!cat /proc/cpuinfo | grep \"model name\""
   ]
  },
  {
   "cell_type": "markdown",
   "metadata": {},
   "source": [
    "And 9 GB of storage space"
   ]
  },
  {
   "cell_type": "code",
   "execution_count": null,
   "metadata": {},
   "outputs": [],
   "source": [
    "! df -h | grep \"/home\""
   ]
  },
  {
   "cell_type": "code",
   "execution_count": null,
   "metadata": {},
   "outputs": [],
   "source": []
  }
 ],
 "metadata": {
  "kernelspec": {
   "display_name": "Python [default]",
   "language": "python",
   "name": "python3"
  },
  "language_info": {
   "codemirror_mode": {
    "name": "ipython",
    "version": 3
   },
   "file_extension": ".py",
   "mimetype": "text/x-python",
   "name": "python",
   "nbconvert_exporter": "python",
   "pygments_lexer": "ipython3",
   "version": "3.6.5"
  }
 },
 "nbformat": 4,
 "nbformat_minor": 2
}
